{
 "cells": [
  {
   "cell_type": "code",
   "execution_count": 2,
   "id": "98f23512",
   "metadata": {},
   "outputs": [],
   "source": [
    "import pandas as pd\n",
    "import numpy as np"
   ]
  },
  {
   "cell_type": "code",
   "execution_count": 3,
   "id": "ba64c818",
   "metadata": {},
   "outputs": [
    {
     "name": "stdout",
     "output_type": "stream",
     "text": [
      "      user_id  gender  age country subscription_type  listening_time  \\\n",
      "0           1  Female   54      CA              Free              26   \n",
      "1           2   Other   33      DE            Family             141   \n",
      "2           3    Male   38      AU           Premium             199   \n",
      "3           4  Female   22      CA           Student              36   \n",
      "4           5   Other   29      US            Family             250   \n",
      "...       ...     ...  ...     ...               ...             ...   \n",
      "7995     7996   Other   44      DE           Student             237   \n",
      "7996     7997    Male   34      AU           Premium              61   \n",
      "7997     7998  Female   17      US              Free              81   \n",
      "7998     7999  Female   34      IN           Student             245   \n",
      "7999     8000   Other   45      AU              Free             210   \n",
      "\n",
      "      songs_played_per_day  skip_rate device_type  ads_listened_per_week  \\\n",
      "0                       23       0.20     Desktop                     31   \n",
      "1                       62       0.34         Web                      0   \n",
      "2                       38       0.04      Mobile                      0   \n",
      "3                        2       0.31      Mobile                      0   \n",
      "4                       57       0.36      Mobile                      0   \n",
      "...                    ...        ...         ...                    ...   \n",
      "7995                    36       0.30      Mobile                      0   \n",
      "7996                    64       0.59      Mobile                      0   \n",
      "7997                    62       0.33     Desktop                      5   \n",
      "7998                    94       0.27     Desktop                      0   \n",
      "7999                    68       0.46     Desktop                      6   \n",
      "\n",
      "      offline_listening  is_churned  \n",
      "0                     0           1  \n",
      "1                     1           0  \n",
      "2                     1           1  \n",
      "3                     1           0  \n",
      "4                     1           1  \n",
      "...                 ...         ...  \n",
      "7995                  1           1  \n",
      "7996                  1           0  \n",
      "7997                  0           0  \n",
      "7998                  1           0  \n",
      "7999                  0           0  \n",
      "\n",
      "[8000 rows x 12 columns]\n"
     ]
    }
   ],
   "source": [
    "datafile = r\"https://raw.githubusercontent.com/vvishan/tester/refs/heads/main/Data/spotify_churn_dataset.csv\"\n",
    "data = pd.read_csv(datafile)\n",
    "print(data)"
   ]
  },
  {
   "cell_type": "code",
   "execution_count": 4,
   "id": "31dec409",
   "metadata": {},
   "outputs": [
    {
     "name": "stdout",
     "output_type": "stream",
     "text": [
      "<class 'pandas.core.frame.DataFrame'>\n",
      "RangeIndex: 8000 entries, 0 to 7999\n",
      "Data columns (total 12 columns):\n",
      " #   Column                 Non-Null Count  Dtype  \n",
      "---  ------                 --------------  -----  \n",
      " 0   user_id                8000 non-null   int64  \n",
      " 1   gender                 8000 non-null   object \n",
      " 2   age                    8000 non-null   int64  \n",
      " 3   country                8000 non-null   object \n",
      " 4   subscription_type      8000 non-null   object \n",
      " 5   listening_time         8000 non-null   int64  \n",
      " 6   songs_played_per_day   8000 non-null   int64  \n",
      " 7   skip_rate              8000 non-null   float64\n",
      " 8   device_type            8000 non-null   object \n",
      " 9   ads_listened_per_week  8000 non-null   int64  \n",
      " 10  offline_listening      8000 non-null   int64  \n",
      " 11  is_churned             8000 non-null   int64  \n",
      "dtypes: float64(1), int64(7), object(4)\n",
      "memory usage: 750.1+ KB\n"
     ]
    }
   ],
   "source": [
    "data.info()"
   ]
  },
  {
   "cell_type": "code",
   "execution_count": 5,
   "id": "c5c9282e",
   "metadata": {},
   "outputs": [
    {
     "name": "stdout",
     "output_type": "stream",
     "text": [
      "0\n"
     ]
    }
   ],
   "source": [
    "check = data[\"country\"].isnull().sum()\n",
    "print(check)\n",
    "assert check == 0"
   ]
  }
 ],
 "metadata": {
  "kernelspec": {
   "display_name": "Python 3",
   "language": "python",
   "name": "python3"
  },
  "language_info": {
   "codemirror_mode": {
    "name": "ipython",
    "version": 3
   },
   "file_extension": ".py",
   "mimetype": "text/x-python",
   "name": "python",
   "nbconvert_exporter": "python",
   "pygments_lexer": "ipython3",
   "version": "3.12.3"
  }
 },
 "nbformat": 4,
 "nbformat_minor": 5
}
