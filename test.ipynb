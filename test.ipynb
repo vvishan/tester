{
 "cells": [
  {
   "cell_type": "code",
   "execution_count": 1,
   "id": "9a8c35be",
   "metadata": {},
   "outputs": [
    {
     "ename": "ModuleNotFoundError",
     "evalue": "No module named 'ocr_utilis'",
     "output_type": "error",
     "traceback": [
      "\u001b[31m---------------------------------------------------------------------------\u001b[39m",
      "\u001b[31mModuleNotFoundError\u001b[39m                       Traceback (most recent call last)",
      "\u001b[36mCell\u001b[39m\u001b[36m \u001b[39m\u001b[32mIn[1]\u001b[39m\u001b[32m, line 1\u001b[39m\n\u001b[32m----> \u001b[39m\u001b[32m1\u001b[39m \u001b[38;5;28;01mfrom\u001b[39;00m\u001b[38;5;250m \u001b[39m\u001b[34;01mocr_utilis\u001b[39;00m\u001b[38;5;250m \u001b[39m\u001b[38;5;28;01mimport\u001b[39;00m extract_text_from_image\n\u001b[32m      3\u001b[39m text = extract_text_from_image(\u001b[33mr\u001b[39m\u001b[33m\"\u001b[39m\u001b[33mC:\u001b[39m\u001b[33m\\\u001b[39m\u001b[33mUsers\u001b[39m\u001b[33m\\\u001b[39m\u001b[33mvvish\u001b[39m\u001b[33m\\\u001b[39m\u001b[33mtester\u001b[39m\u001b[33m\\\u001b[39m\u001b[33mtester\u001b[39m\u001b[33m\\\u001b[39m\u001b[33mOCR_project_to Extract_text\u001b[39m\u001b[33m\\\u001b[39m\u001b[33mWalmart.png\u001b[39m\u001b[33m\"\u001b[39m)\n\u001b[32m      4\u001b[39m \u001b[38;5;28mprint\u001b[39m(text)\n",
      "\u001b[31mModuleNotFoundError\u001b[39m: No module named 'ocr_utilis'"
     ]
    }
   ],
   "source": [
    "from ocr_utilis import extract_text_from_image\n",
    "\n",
    "text = extract_text_from_image(r\"C:\\Users\\vvish\\tester\\tester\\OCR_project_to Extract_text\\Walmart.png\")\n",
    "print(text)"
   ]
  },
  {
   "cell_type": "code",
   "execution_count": null,
   "id": "71160f22",
   "metadata": {},
   "outputs": [
    {
     "name": "stdout",
     "output_type": "stream",
     "text": [
      "['FastAPI', 'File', 'UploadFile', '__builtins__', '__cached__', '__doc__', '__file__', '__loader__', '__name__', '__package__', '__spec__', 'context', 'count_text', 'cv2', 'extract_text_from_image', 'np', 'process_image', 'process_text_file', 'pytesseract']\n"
     ]
    }
   ],
   "source": [
    "import ocr_utilises\n",
    "print(dir(ocr_utilises))"
   ]
  },
  {
   "cell_type": "code",
   "execution_count": null,
   "id": "97d0e6c8",
   "metadata": {},
   "outputs": [
    {
     "name": "stdout",
     "output_type": "stream",
     "text": [
      "<module 'multiprocessing.context' from 'C:\\\\Users\\\\vvish\\\\AppData\\\\Local\\\\Programs\\\\Python\\\\Python313\\\\Lib\\\\multiprocessing\\\\context.py'>\n"
     ]
    }
   ],
   "source": [
    "from ocr_utilises import process_text_file\n",
    "import multiprocessing.context\n",
    "\n",
    "text1 = process_text_file(r\"C:\\Users\\vvish\\Downloads\\wizard_of_oz.txt\")\n",
    "\n",
    "\n",
    "print(text1)  # show first 100 chars\n",
    "\n",
    "\n"
   ]
  },
  {
   "cell_type": "code",
   "execution_count": null,
   "id": "f663caab",
   "metadata": {},
   "outputs": [
    {
     "name": "stdout",
     "output_type": "stream",
     "text": [
      "['Application', 'shutdown', 'complete.']\n"
     ]
    }
   ],
   "source": [
    "text = \"Application shutdown complete.\"\n",
    "text1 = text.split()\n",
    "print(text1)"
   ]
  },
  {
   "cell_type": "code",
   "execution_count": 2,
   "id": "7d851f04",
   "metadata": {},
   "outputs": [],
   "source": [
    "from kafka import KafkaProducer"
   ]
  },
  {
   "cell_type": "code",
   "execution_count": 1,
   "id": "eebc26b6",
   "metadata": {},
   "outputs": [],
   "source": [
    "from pyspark.sql import SparkSession\n",
    "from pyspark.sql.functions import from_json, col, udf, struct, to_json\n",
    "from pyspark.sql.types import StructType, StructField, StringType, DoubleType, MapType\n",
    "import joblib\n",
    "import json\n",
    "import numpy as np"
   ]
  }
 ],
 "metadata": {
  "kernelspec": {
   "display_name": "Python 3",
   "language": "python",
   "name": "python3"
  },
  "language_info": {
   "codemirror_mode": {
    "name": "ipython",
    "version": 3
   },
   "file_extension": ".py",
   "mimetype": "text/x-python",
   "name": "python",
   "nbconvert_exporter": "python",
   "pygments_lexer": "ipython3",
   "version": "3.13.7"
  }
 },
 "nbformat": 4,
 "nbformat_minor": 5
}
